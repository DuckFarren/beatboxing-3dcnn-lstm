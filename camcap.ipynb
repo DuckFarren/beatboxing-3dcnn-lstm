{
 "cells": [
  {
   "cell_type": "code",
   "execution_count": 5,
   "metadata": {},
   "outputs": [
    {
     "data": {
      "text/plain": [
       "0"
      ]
     },
     "execution_count": 5,
     "metadata": {},
     "output_type": "execute_result"
    }
   ],
   "source": [
    "ds_path = 'datasets\\hook'\n",
    "len(os.listdir(ds_path))"
   ]
  },
  {
   "cell_type": "code",
   "execution_count": 231,
   "metadata": {},
   "outputs": [],
   "source": [
    "import cv2\n",
    "import time\n",
    "import os\n",
    "\n",
    "# ds_path = 'datasets\\\\jap'\n",
    "# ds_path = 'datasets\\\\dbjap'\n",
    "# ds_path = 'datasets\\\\hook'\n",
    "# ds_path = 'datasets\\\\uppercut'\n",
    "# ds_path = 'datasets\\\\block'\n",
    "# ds_path = 'datasets\\\\slip'\n",
    "# ds_path = 'datasets\\\\stance'\n",
    "ds_path = 'datasets\\\\none'\n",
    "nfiles = len(os.listdir(ds_path))\n",
    "\n",
    "cap = cv2.VideoCapture(0)\n",
    "frame_width = int(cap.get(3))\n",
    "frame_height = int(cap.get(4))\n",
    "capture_duration = 2\n",
    "start_time = time.time()\n",
    "file_name = ds_path+'\\\\'+ str(nfiles+1)+ '.avi'\n",
    "writer = cv2.VideoWriter(file_name,cv2.VideoWriter_fourcc(*'XVID'),30,(frame_width,frame_height))\n",
    "\n",
    "while( int(time.time() - start_time) < capture_duration ):\n",
    "    ret, frame = cap.read()\n",
    "    if ret==True:\n",
    "        frame = cv2.flip(frame,1)\n",
    "        writer.write(frame)\n",
    "        cv2.imshow('frame',frame)\n",
    "    elif cv2.waitKey(1) & 0xFF == ord('q'):\n",
    "        break\n",
    "\n",
    "cap.release()\n",
    "writer.release()\n",
    "cv2.destroyAllWindows() "
   ]
  },
  {
   "cell_type": "code",
   "execution_count": 207,
   "metadata": {},
   "outputs": [
    {
     "name": "stdout",
     "output_type": "stream",
     "text": [
      "640 480\n"
     ]
    }
   ],
   "source": [
    "import cv2\n",
    "\n",
    "cap = cv2.VideoCapture(0)\n",
    "frame_width = int(cap.get(3))\n",
    "frame_height = int(cap.get(4))\n",
    "print(frame_width,frame_height)\n",
    "\n",
    "while True:\n",
    "    ret, frame = cap.read()\n",
    "    cv2.imshow('frame',frame)\n",
    "    if cv2.waitKey(1) & 0xFF == ord('q'):\n",
    "        break\n",
    "\n",
    "cap.release()\n",
    "cv2.destroyAllWindows() "
   ]
  },
  {
   "cell_type": "markdown",
   "metadata": {},
   "source": [
    "# "
   ]
  },
  {
   "cell_type": "markdown",
   "metadata": {},
   "source": [
    "Use cv2.waitKey(delayTime) in the loop where you are capturing the frames. This delayTime is in Mili seconds. More the delayTime less will be the fps.\n",
    "\n",
    "For eg if you set delayTime=50 then fps will be 1000/50 i.e 20. If you increase delayTime to 100 then fps will change to 1000/100 i.e 10."
   ]
  },
  {
   "cell_type": "code",
   "execution_count": 234,
   "metadata": {},
   "outputs": [],
   "source": [
    "import cv2\n",
    "import time\n",
    "import os\n",
    "\n",
    "ds_path = 'datasets\\\\none'\n",
    "nfiles = len(os.listdir(ds_path))\n",
    "\n",
    "cap = cv2.VideoCapture('_tmp/22.avi')\n",
    "frame_width = int(cap.get(3))\n",
    "frame_height = int(cap.get(4))\n",
    "\n",
    "file_name = '_tmp/22_10.avi'\n",
    "writer = cv2.VideoWriter(file_name,cv2.VideoWriter_fourcc(*'XVID'),15,(frame_width,frame_height))\n",
    "\n",
    "while True:\n",
    "    ret, frame = cap.read()\n",
    "    if ret==True:\n",
    "#         frame = cv2.flip(frame,1)\n",
    "        writer.write(frame)\n",
    "        cv2.imshow('frame',frame)\n",
    "    elif cv2.waitKey(1) & 0xFF == ord('q'):\n",
    "        break\n",
    "\n",
    "cap.release()\n",
    "writer.release()\n",
    "cv2.destroyAllWindows() "
   ]
  },
  {
   "cell_type": "code",
   "execution_count": null,
   "metadata": {},
   "outputs": [
    {
     "name": "stdout",
     "output_type": "stream",
     "text": [
      "640 480\n"
     ]
    }
   ],
   "source": [
    "import cv2\n",
    "\n",
    "cap = cv2.VideoCapture(0)\n",
    "frame_width = int(cap.get(3))\n",
    "frame_height = int(cap.get(4))\n",
    "print(frame_width,frame_height)\n",
    "\n",
    "while True:\n",
    "    ret, frame = cap.read()\n",
    "    cv2.imshow('frame',frame)\n",
    "    if cv2.waitKey(1) & 0xFF == ord('q'):\n",
    "        break\n",
    "\n",
    "cap.release()\n",
    "cv2.destroyAllWindows() "
   ]
  },
  {
   "cell_type": "code",
   "execution_count": null,
   "metadata": {},
   "outputs": [],
   "source": []
  }
 ],
 "metadata": {
  "kernelspec": {
   "display_name": "Python 3",
   "language": "python",
   "name": "python3"
  },
  "language_info": {
   "codemirror_mode": {
    "name": "ipython",
    "version": 3
   },
   "file_extension": ".py",
   "mimetype": "text/x-python",
   "name": "python",
   "nbconvert_exporter": "python",
   "pygments_lexer": "ipython3",
   "version": "3.6.6"
  }
 },
 "nbformat": 4,
 "nbformat_minor": 2
}
