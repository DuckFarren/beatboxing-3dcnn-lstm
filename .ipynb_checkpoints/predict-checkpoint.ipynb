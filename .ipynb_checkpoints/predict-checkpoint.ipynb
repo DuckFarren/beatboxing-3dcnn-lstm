{
 "cells": [
  {
   "cell_type": "code",
   "execution_count": 2,
   "metadata": {},
   "outputs": [
    {
     "name": "stdout",
     "output_type": "stream",
     "text": [
      "Loaded model from disk\n"
     ]
    },
    {
     "ename": "ValueError",
     "evalue": "cannot reshape array of size 49152 into shape (1,128,128,25)",
     "output_type": "error",
     "traceback": [
      "\u001b[1;31m---------------------------------------------------------------------------\u001b[0m",
      "\u001b[1;31mValueError\u001b[0m                                Traceback (most recent call last)",
      "\u001b[1;32m<ipython-input-2-c96d1e0ce075>\u001b[0m in \u001b[0;36m<module>\u001b[1;34m\u001b[0m\n\u001b[0;32m     29\u001b[0m     \u001b[0mframe\u001b[0m \u001b[1;33m=\u001b[0m \u001b[0mcv2\u001b[0m\u001b[1;33m.\u001b[0m\u001b[0mresize\u001b[0m\u001b[1;33m(\u001b[0m\u001b[0mframe\u001b[0m\u001b[1;33m,\u001b[0m \u001b[1;33m(\u001b[0m\u001b[1;36m128\u001b[0m\u001b[1;33m,\u001b[0m \u001b[1;36m128\u001b[0m\u001b[1;33m)\u001b[0m\u001b[1;33m)\u001b[0m\u001b[1;33m.\u001b[0m\u001b[0mastype\u001b[0m\u001b[1;33m(\u001b[0m\u001b[1;34m\"float32\"\u001b[0m\u001b[1;33m)\u001b[0m\u001b[1;33m\u001b[0m\u001b[0m\n\u001b[0;32m     30\u001b[0m \u001b[1;33m\u001b[0m\u001b[0m\n\u001b[1;32m---> 31\u001b[1;33m     \u001b[0mresult\u001b[0m \u001b[1;33m=\u001b[0m \u001b[0mloaded_model\u001b[0m\u001b[1;33m.\u001b[0m\u001b[0mpredict\u001b[0m\u001b[1;33m(\u001b[0m\u001b[0mframe\u001b[0m\u001b[1;33m.\u001b[0m\u001b[0mreshape\u001b[0m\u001b[1;33m(\u001b[0m\u001b[1;36m1\u001b[0m\u001b[1;33m,\u001b[0m \u001b[1;36m128\u001b[0m\u001b[1;33m,\u001b[0m \u001b[1;36m128\u001b[0m\u001b[1;33m,\u001b[0m \u001b[1;36m25\u001b[0m\u001b[1;33m)\u001b[0m\u001b[1;33m)\u001b[0m \u001b[1;31m# , 128, 128, 25\u001b[0m\u001b[1;33m\u001b[0m\u001b[0m\n\u001b[0m\u001b[0;32m     32\u001b[0m     prediction = {'HOOK': result[0][0], \n\u001b[0;32m     33\u001b[0m                   \u001b[1;34m'JAP'\u001b[0m\u001b[1;33m:\u001b[0m \u001b[0mresult\u001b[0m\u001b[1;33m[\u001b[0m\u001b[1;36m0\u001b[0m\u001b[1;33m]\u001b[0m\u001b[1;33m[\u001b[0m\u001b[1;36m1\u001b[0m\u001b[1;33m]\u001b[0m\u001b[1;33m,\u001b[0m\u001b[1;33m\u001b[0m\u001b[0m\n",
      "\u001b[1;31mValueError\u001b[0m: cannot reshape array of size 49152 into shape (1,128,128,25)"
     ]
    }
   ],
   "source": [
    "import numpy as np\n",
    "from keras.models import model_from_json\n",
    "import operator\n",
    "import cv2\n",
    "import sys, os\n",
    "\n",
    "# Loading the model\n",
    "json_file = open(\"model/model.json\", \"r\")\n",
    "model_json = json_file.read()\n",
    "json_file.close()\n",
    "loaded_model = model_from_json(model_json)\n",
    "# load weights into new model\n",
    "loaded_model.load_weights(\"model/model.h5\")\n",
    "print(\"Loaded model from disk\")\n",
    "\n",
    "cap = cv2.VideoCapture(0)\n",
    "frameRate = cap.get(5)\n",
    "categories = {0: 'HOOK', 1: 'JAP', 2: 'UPPERCUT'} #, 3: 'THREE', 4: 'FOUR', 5: 'FIVE'}\n",
    "\n",
    "vid = []\n",
    "\n",
    "while True:\n",
    "    _, frame = cap.read()\n",
    "    # Simulating mirror image\n",
    "    frame = cv2.flip(frame, 1)\n",
    "    frame = cv2.cvtColor(frame, cv2.COLOR_BGR2GRAY)\n",
    "    \n",
    "    vid.append(cv2.resize(img, (128, 128)))\n",
    "    img_array = np.expand_dims(img_array, axis=0)\n",
    "        \n",
    "    vid = np.array(vid, dtype=np.float32)\n",
    "    \n",
    "    result = loaded_model.predict(frame.reshape(1, 128, 128, 25)) # , 128, 128, 25\n",
    "    prediction = {'HOOK': result[0][0], \n",
    "                  'JAP': result[0][1], \n",
    "                  'UPPERCUT': result[0][2]}\n",
    "    # Sorting based on top prediction\n",
    "    prediction = sorted(prediction.items(), key=operator.itemgetter(1), reverse=True)\n",
    "    \n",
    "    cv2.rectangle(frame, (0, 0), (300, 40), (0, 0, 0), -1)\n",
    "    cv2.putText(frame, label, (10, 25), cv2.FONT_HERSHEY_SIMPLEX,0.8, (255, 255, 255), 2)\n",
    "    # display the frame to our screen\n",
    "    cv2.imshow(\"Activity Recognition\", frame)\n",
    "    \n",
    "    key = cv2.waitKey(1) & 0xFF\n",
    "    # if the `q` key was pressed, break from the loop\n",
    "    if key == ord(\"q\"):\n",
    "        break\n",
    "        \n",
    "cap.release()\n",
    "cv2.destroyAllWindows()"
   ]
  },
  {
   "cell_type": "code",
   "execution_count": 2,
   "metadata": {},
   "outputs": [
    {
     "name": "stdout",
     "output_type": "stream",
     "text": [
      "[INFO] loading human activity recognition model...\n"
     ]
    },
    {
     "ename": "error",
     "evalue": "OpenCV(3.4.2) C:\\Miniconda3\\conda-bld\\opencv-suite_1534379934306\\work\\modules\\dnn\\src\\tensorflow\\tf_importer.cpp:260: error: (-212:Parsing error) Unknown data_format value: NDHWC in function 'cv::dnn::experimental_dnn_v5::`anonymous-namespace'::getDataLayout'\n",
     "output_type": "error",
     "traceback": [
      "\u001b[1;31m---------------------------------------------------------------------------\u001b[0m",
      "\u001b[1;31merror\u001b[0m                                     Traceback (most recent call last)",
      "\u001b[1;32m<ipython-input-2-df09bee28f5b>\u001b[0m in \u001b[0;36m<module>\u001b[1;34m\u001b[0m\n\u001b[0;32m     10\u001b[0m \u001b[1;31m# load the human activity recognition model\u001b[0m\u001b[1;33m\u001b[0m\u001b[1;33m\u001b[0m\u001b[0m\n\u001b[0;32m     11\u001b[0m \u001b[0mprint\u001b[0m\u001b[1;33m(\u001b[0m\u001b[1;34m\"[INFO] loading human activity recognition model...\"\u001b[0m\u001b[1;33m)\u001b[0m\u001b[1;33m\u001b[0m\u001b[0m\n\u001b[1;32m---> 12\u001b[1;33m \u001b[0mnet\u001b[0m \u001b[1;33m=\u001b[0m \u001b[0mcv2\u001b[0m\u001b[1;33m.\u001b[0m\u001b[0mdnn\u001b[0m\u001b[1;33m.\u001b[0m\u001b[0mreadNetFromTensorflow\u001b[0m\u001b[1;33m(\u001b[0m\u001b[1;34m'model/tf_model.pb'\u001b[0m\u001b[1;33m)\u001b[0m\u001b[1;33m\u001b[0m\u001b[0m\n\u001b[0m\u001b[0;32m     13\u001b[0m \u001b[1;31m# grab a pointer to the input video stream\u001b[0m\u001b[1;33m\u001b[0m\u001b[1;33m\u001b[0m\u001b[0m\n\u001b[0;32m     14\u001b[0m \u001b[0mprint\u001b[0m\u001b[1;33m(\u001b[0m\u001b[1;34m\"[INFO] accessing video stream...\"\u001b[0m\u001b[1;33m)\u001b[0m\u001b[1;33m\u001b[0m\u001b[0m\n",
      "\u001b[1;31merror\u001b[0m: OpenCV(3.4.2) C:\\Miniconda3\\conda-bld\\opencv-suite_1534379934306\\work\\modules\\dnn\\src\\tensorflow\\tf_importer.cpp:260: error: (-212:Parsing error) Unknown data_format value: NDHWC in function 'cv::dnn::experimental_dnn_v5::`anonymous-namespace'::getDataLayout'\n"
     ]
    }
   ],
   "source": [
    "# import the necessary packages\n",
    "import numpy as np\n",
    "import sys\n",
    "import cv2\n",
    "\n",
    "# CLASSES = open(args[\"classes\"]).read().strip().split(\"\\n\")\n",
    "SAMPLE_DURATION = 25\n",
    "SAMPLE_SIZE = 128\n",
    "\n",
    "# load the human activity recognition model\n",
    "print(\"[INFO] loading human activity recognition model...\")\n",
    "net = cv2.dnn.readNetFromTensorflow('model/tf_model.pb')\n",
    "# grab a pointer to the input video stream\n",
    "print(\"[INFO] accessing video stream...\")\n",
    "vs = cv2.VideoCapture(0)\n",
    "\n",
    "# loop until we explicitly break from it\n",
    "while True:\n",
    "    # initialize the batch of frames that will be passed through the\n",
    "    # model\n",
    "    frames = []\n",
    "    # loop over the number of required sample frames\n",
    "    for i in range(0, SAMPLE_DURATION):\n",
    "        # read a frame from the video stream\n",
    "        ret, frame = cv2.read()\n",
    "        cv2.cvtColor(frame, cv2.COLOR_BGR2GRAY)\n",
    "        cv2.resize(frame, (128, 128))\n",
    "        frames.append(frame)\n",
    "        \n",
    "    # now that our frames array is filled we can construct our blob\n",
    "    blob = cv2.dnn.blobFromImages(frames, 1.0,(SAMPLE_SIZE, SAMPLE_SIZE), (114.7748, 107.7354, 99.4750),\n",
    "        swapRB=True, crop=True)\n",
    "    blob = np.transpose(blob, (1, 0, 2, 3))\n",
    "    blob = np.expand_dims(blob, axis=0)\n",
    "    \n",
    "    # pass the blob through the network to obtain our human activity\n",
    "    # recognition predictions\n",
    "    net.setInput(blob)\n",
    "    outputs = net.forward()\n",
    "    label = CLASSES[np.argmax(outputs)]\n",
    "    \n",
    "    # loop over our frames\n",
    "    for frame in frames:\n",
    "        # draw the predicted activity on the frame\n",
    "        cv2.rectangle(frame, (0, 0), (300, 40), (0, 0, 0), -1)\n",
    "        cv2.putText(frame, label, (10, 25), cv2.FONT_HERSHEY_SIMPLEX,\n",
    "            0.8, (255, 255, 255), 2)\n",
    "        # display the frame to our screen\n",
    "        cv2.imshow(\"Activity Recognition\", frame)\n",
    "        key = cv2.waitKey(1) & 0xFF\n",
    "        # if the `q` key was pressed, break from the loop\n",
    "        if key == ord(\"q\"):\n",
    "            break"
   ]
  },
  {
   "cell_type": "code",
   "execution_count": null,
   "metadata": {},
   "outputs": [],
   "source": []
  }
 ],
 "metadata": {
  "kernelspec": {
   "display_name": "Python 3",
   "language": "python",
   "name": "python3"
  },
  "language_info": {
   "codemirror_mode": {
    "name": "ipython",
    "version": 3
   },
   "file_extension": ".py",
   "mimetype": "text/x-python",
   "name": "python",
   "nbconvert_exporter": "python",
   "pygments_lexer": "ipython3",
   "version": "3.6.6"
  }
 },
 "nbformat": 4,
 "nbformat_minor": 2
}
