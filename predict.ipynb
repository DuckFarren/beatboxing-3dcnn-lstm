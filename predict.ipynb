{
 "cells": [
  {
   "cell_type": "code",
   "execution_count": 1,
   "metadata": {},
   "outputs": [
    {
     "name": "stdout",
     "output_type": "stream",
     "text": [
      "(128, 128, 25)\n"
     ]
    }
   ],
   "source": [
    "import numpy as np\n",
    "loaded_array = np.load('xtrain_example.npy')\n",
    "print(loaded_array.shape)"
   ]
  },
  {
   "cell_type": "code",
   "execution_count": null,
   "metadata": {},
   "outputs": [],
   "source": []
  },
  {
   "cell_type": "code",
   "execution_count": 2,
   "metadata": {},
   "outputs": [
    {
     "name": "stderr",
     "output_type": "stream",
     "text": [
      "Using TensorFlow backend.\n"
     ]
    },
    {
     "name": "stdout",
     "output_type": "stream",
     "text": [
      "Loaded model from disk\n"
     ]
    }
   ],
   "source": [
    "from keras.models import model_from_json\n",
    "\n",
    "# Loading the model\n",
    "json_file = open(\"model/model.json\", \"r\")\n",
    "model_json = json_file.read()\n",
    "json_file.close()\n",
    "loaded_model = model_from_json(model_json)\n",
    "# load weights into new model\n",
    "loaded_model.load_weights(\"model/model.h5\")\n",
    "print(\"Loaded model from disk\")"
   ]
  },
  {
   "cell_type": "code",
   "execution_count": 5,
   "metadata": {},
   "outputs": [
    {
     "name": "stdout",
     "output_type": "stream",
     "text": [
      "Loaded model from disk\n",
      "(1, 1, 128, 128, 25)\n"
     ]
    },
    {
     "data": {
      "text/plain": [
       "[('HOOK', 1.0), ('JAP', 0.0), ('UPPERCUT', 0.0)]"
      ]
     },
     "execution_count": 5,
     "metadata": {},
     "output_type": "execute_result"
    }
   ],
   "source": [
    "import numpy as np\n",
    "from keras.models import model_from_json\n",
    "import operator\n",
    "import cv2\n",
    "\n",
    "categories = {0: 'HOOK', 1: 'JAP', 2: 'UPPERCUT'} #, 3: 'THREE', 4: 'FOUR', 5: 'FIVE'}\n",
    "\n",
    "\n",
    "img_array = np.expand_dims(loaded_array, axis=0)\n",
    "img_array = np.expand_dims(img_array, axis=0)\n",
    "print(img_array.shape)\n",
    "# vid = np.array(vid, dtype=np.float32)\n",
    "\n",
    "result = loaded_model.predict(img_array) # , 128, 128, 25\n",
    "prediction = {'HOOK': result[0][0], \n",
    "              'JAP': result[0][1], \n",
    "              'UPPERCUT': result[0][2]}\n",
    "# Sorting based on top prediction\n",
    "prediction = sorted(prediction.items(), key=operator.itemgetter(1), reverse=True)\n",
    "\n",
    "prediction"
   ]
  },
  {
   "cell_type": "code",
   "execution_count": null,
   "metadata": {},
   "outputs": [],
   "source": []
  },
  {
   "cell_type": "code",
   "execution_count": 2,
   "metadata": {},
   "outputs": [
    {
     "name": "stdout",
     "output_type": "stream",
     "text": [
      "Loaded model from disk\n"
     ]
    },
    {
     "ename": "ValueError",
     "evalue": "cannot reshape array of size 49152 into shape (1,128,128,25)",
     "output_type": "error",
     "traceback": [
      "\u001b[1;31m---------------------------------------------------------------------------\u001b[0m",
      "\u001b[1;31mValueError\u001b[0m                                Traceback (most recent call last)",
      "\u001b[1;32m<ipython-input-2-c96d1e0ce075>\u001b[0m in \u001b[0;36m<module>\u001b[1;34m\u001b[0m\n\u001b[0;32m     29\u001b[0m     \u001b[0mframe\u001b[0m \u001b[1;33m=\u001b[0m \u001b[0mcv2\u001b[0m\u001b[1;33m.\u001b[0m\u001b[0mresize\u001b[0m\u001b[1;33m(\u001b[0m\u001b[0mframe\u001b[0m\u001b[1;33m,\u001b[0m \u001b[1;33m(\u001b[0m\u001b[1;36m128\u001b[0m\u001b[1;33m,\u001b[0m \u001b[1;36m128\u001b[0m\u001b[1;33m)\u001b[0m\u001b[1;33m)\u001b[0m\u001b[1;33m.\u001b[0m\u001b[0mastype\u001b[0m\u001b[1;33m(\u001b[0m\u001b[1;34m\"float32\"\u001b[0m\u001b[1;33m)\u001b[0m\u001b[1;33m\u001b[0m\u001b[0m\n\u001b[0;32m     30\u001b[0m \u001b[1;33m\u001b[0m\u001b[0m\n\u001b[1;32m---> 31\u001b[1;33m     \u001b[0mresult\u001b[0m \u001b[1;33m=\u001b[0m \u001b[0mloaded_model\u001b[0m\u001b[1;33m.\u001b[0m\u001b[0mpredict\u001b[0m\u001b[1;33m(\u001b[0m\u001b[0mframe\u001b[0m\u001b[1;33m.\u001b[0m\u001b[0mreshape\u001b[0m\u001b[1;33m(\u001b[0m\u001b[1;36m1\u001b[0m\u001b[1;33m,\u001b[0m \u001b[1;36m128\u001b[0m\u001b[1;33m,\u001b[0m \u001b[1;36m128\u001b[0m\u001b[1;33m,\u001b[0m \u001b[1;36m25\u001b[0m\u001b[1;33m)\u001b[0m\u001b[1;33m)\u001b[0m \u001b[1;31m# , 128, 128, 25\u001b[0m\u001b[1;33m\u001b[0m\u001b[0m\n\u001b[0m\u001b[0;32m     32\u001b[0m     prediction = {'HOOK': result[0][0], \n\u001b[0;32m     33\u001b[0m                   \u001b[1;34m'JAP'\u001b[0m\u001b[1;33m:\u001b[0m \u001b[0mresult\u001b[0m\u001b[1;33m[\u001b[0m\u001b[1;36m0\u001b[0m\u001b[1;33m]\u001b[0m\u001b[1;33m[\u001b[0m\u001b[1;36m1\u001b[0m\u001b[1;33m]\u001b[0m\u001b[1;33m,\u001b[0m\u001b[1;33m\u001b[0m\u001b[0m\n",
      "\u001b[1;31mValueError\u001b[0m: cannot reshape array of size 49152 into shape (1,128,128,25)"
     ]
    }
   ],
   "source": [
    "import numpy as np\n",
    "from keras.models import model_from_json\n",
    "import operator\n",
    "import cv2\n",
    "import sys, os\n",
    "\n",
    "# Loading the model\n",
    "json_file = open(\"model/model.json\", \"r\")\n",
    "model_json = json_file.read()\n",
    "json_file.close()\n",
    "loaded_model = model_from_json(model_json)\n",
    "# load weights into new model\n",
    "loaded_model.load_weights(\"model/model.h5\")\n",
    "print(\"Loaded model from disk\")\n",
    "\n",
    "cap = cv2.VideoCapture(0)\n",
    "frameRate = cap.get(5)\n",
    "categories = {0: 'HOOK', 1: 'JAP', 2: 'UPPERCUT'} #, 3: 'THREE', 4: 'FOUR', 5: 'FIVE'}\n",
    "\n",
    "vid = []\n",
    "\n",
    "while True:\n",
    "    _, frame = cap.read()\n",
    "    # Simulating mirror image\n",
    "    frame = cv2.flip(frame, 1)\n",
    "    frame = cv2.cvtColor(frame, cv2.COLOR_BGR2GRAY)\n",
    "    \n",
    "    for k in range(int(fps)):\n",
    "        ret, frame = cap.read()\n",
    "        frame = cv2.resize(frame,(img_rows,img_cols),interpolation=cv2.INTER_AREA)\n",
    "        gray = cv2.cvtColor(frame, cv2.COLOR_BGR2GRAY)\n",
    "        frames.append(gray)\n",
    "    \n",
    "    \n",
    "    \n",
    "    vid.append(cv2.resize(img, (128, 128)))\n",
    "    img_array = np.expand_dims(img_array, axis=0)\n",
    "        \n",
    "    vid = np.array(vid, dtype=np.float32)\n",
    "    \n",
    "    result = loaded_model.predict(frame.reshape(1, 128, 128, 25)) # , 128, 128, 25\n",
    "    prediction = {'HOOK': result[0][0], \n",
    "                  'JAP': result[0][1], \n",
    "                  'UPPERCUT': result[0][2]}\n",
    "    # Sorting based on top prediction\n",
    "    prediction = sorted(prediction.items(), key=operator.itemgetter(1), reverse=True)\n",
    "    \n",
    "    cv2.rectangle(frame, (0, 0), (300, 40), (0, 0, 0), -1)\n",
    "    cv2.putText(frame, label, (10, 25), cv2.FONT_HERSHEY_SIMPLEX,0.8, (255, 255, 255), 2)\n",
    "    # display the frame to our screen\n",
    "    cv2.imshow(\"Activity Recognition\", frame)\n",
    "    \n",
    "    key = cv2.waitKey(1) & 0xFF\n",
    "    # if the `q` key was pressed, break from the loop\n",
    "    if key == ord(\"q\"):\n",
    "        break\n",
    "        \n",
    "cap.release()\n",
    "cv2.destroyAllWindows()"
   ]
  },
  {
   "cell_type": "code",
   "execution_count": 4,
   "metadata": {},
   "outputs": [
    {
     "name": "stdout",
     "output_type": "stream",
     "text": [
      "[INFO] loading human activity recognition model...\n"
     ]
    },
    {
     "ename": "error",
     "evalue": "OpenCV(4.1.2) C:\\projects\\opencv-python\\opencv\\modules\\dnn\\src\\tensorflow\\tf_io.cpp:54: error: (-2:Unspecified error) FAILED: ReadProtoFromTextFile(param_file, param). Failed to parse GraphDef file: model/tensorflowModel.pbtxt in function 'cv::dnn::ReadTFNetParamsFromTextFileOrDie'\n",
     "output_type": "error",
     "traceback": [
      "\u001b[1;31m---------------------------------------------------------------------------\u001b[0m",
      "\u001b[1;31merror\u001b[0m                                     Traceback (most recent call last)",
      "\u001b[1;32m<ipython-input-4-7784bfd8f395>\u001b[0m in \u001b[0;36m<module>\u001b[1;34m\u001b[0m\n\u001b[0;32m     10\u001b[0m \u001b[1;31m# load the human activity recognition model\u001b[0m\u001b[1;33m\u001b[0m\u001b[1;33m\u001b[0m\u001b[0m\n\u001b[0;32m     11\u001b[0m \u001b[0mprint\u001b[0m\u001b[1;33m(\u001b[0m\u001b[1;34m\"[INFO] loading human activity recognition model...\"\u001b[0m\u001b[1;33m)\u001b[0m\u001b[1;33m\u001b[0m\u001b[0m\n\u001b[1;32m---> 12\u001b[1;33m \u001b[0mtensorflowNet\u001b[0m \u001b[1;33m=\u001b[0m \u001b[0mcv2\u001b[0m\u001b[1;33m.\u001b[0m\u001b[0mdnn\u001b[0m\u001b[1;33m.\u001b[0m\u001b[0mreadNetFromTensorflow\u001b[0m\u001b[1;33m(\u001b[0m\u001b[1;34m'model/tf_model.pb'\u001b[0m\u001b[1;33m,\u001b[0m \u001b[1;34m'model/tensorflowModel.pbtxt'\u001b[0m\u001b[1;33m)\u001b[0m\u001b[1;33m\u001b[0m\u001b[0m\n\u001b[0m\u001b[0;32m     13\u001b[0m \u001b[1;33m\u001b[0m\u001b[0m\n\u001b[0;32m     14\u001b[0m \u001b[1;31m# grab a pointer to the input video stream\u001b[0m\u001b[1;33m\u001b[0m\u001b[1;33m\u001b[0m\u001b[0m\n",
      "\u001b[1;31merror\u001b[0m: OpenCV(4.1.2) C:\\projects\\opencv-python\\opencv\\modules\\dnn\\src\\tensorflow\\tf_io.cpp:54: error: (-2:Unspecified error) FAILED: ReadProtoFromTextFile(param_file, param). Failed to parse GraphDef file: model/tensorflowModel.pbtxt in function 'cv::dnn::ReadTFNetParamsFromTextFileOrDie'\n"
     ]
    }
   ],
   "source": [
    "# import the necessary packages\n",
    "import numpy as np\n",
    "import sys\n",
    "import cv2\n",
    "\n",
    "# CLASSES = open(args[\"classes\"]).read().strip().split(\"\\n\")\n",
    "SAMPLE_DURATION = 24\n",
    "SAMPLE_SIZE = 128\n",
    "\n",
    "# load the human activity recognition model\n",
    "print(\"[INFO] loading human activity recognition model...\")\n",
    "tensorflowNet = cv2.dnn.readNetFromTensorflow('model/tf_model.pb', 'model/tensorflowModel.pbtxt')\n",
    "\n",
    "# grab a pointer to the input video stream\n",
    "print(\"[INFO] accessing video stream...\")\n",
    "vs = cv2.VideoCapture(0)\n",
    "\n",
    "# loop until we explicitly break from it\n",
    "while True:\n",
    "    # initialize the batch of frames that will be passed through the\n",
    "    # model\n",
    "    frames = []\n",
    "    # loop over the number of required sample frames\n",
    "    for i in range(0, SAMPLE_DURATION):\n",
    "        # read a frame from the video stream\n",
    "        ret, frame = cv2.read()\n",
    "        cv2.cvtColor(frame, cv2.COLOR_BGR2GRAY)\n",
    "        cv2.resize(frame, (128, 128))\n",
    "        frames.append(frame)\n",
    "        \n",
    "    # now that our frames array is filled we can construct our blob\n",
    "    blob = cv2.dnn.blobFromImages(frames, 1.0,(SAMPLE_SIZE, SAMPLE_SIZE), (114.7748, 107.7354, 99.4750),\n",
    "        swapRB=True, crop=True)\n",
    "    blob = np.transpose(blob, (1, 0, 2, 3))\n",
    "    blob = np.expand_dims(blob, axis=0)\n",
    "    \n",
    "    # pass the blob through the network to obtain our human activity\n",
    "    # recognition predictions\n",
    "    net.setInput(blob)\n",
    "    outputs = net.forward()\n",
    "    label = CLASSES[np.argmax(outputs)]\n",
    "    \n",
    "    # loop over our frames\n",
    "    for frame in frames:\n",
    "    \n",
    "        # draw the predicted activity on the frame\n",
    "        cv2.rectangle(frame, (0, 0), (300, 40), (0, 0, 0), -1)\n",
    "        cv2.putText(frame, label, (10, 25), cv2.FONT_HERSHEY_SIMPLEX,\n",
    "            0.8, (255, 255, 255), 2)\n",
    "        # display the frame to our screen\n",
    "        cv2.imshow(\"Activity Recognition\", frame)\n",
    "        key = cv2.waitKey(1) & 0xFF\n",
    "        # if the `q` key was pressed, break from the loop\n",
    "        if key == ord(\"q\"):\n",
    "            break"
   ]
  },
  {
   "cell_type": "code",
   "execution_count": 42,
   "metadata": {},
   "outputs": [
    {
     "data": {
      "image/png": "[encoded data removed]",
      "text/plain": [
       "<Figure size 576x576 with 20 Axes>"
      ]
     },
     "metadata": {
      "needs_background": "light"
     },
     "output_type": "display_data"
    }
   ],
   "source": [
    "# import matplotlib.pyplot as plt\n",
    "# for aa in range(25):\n",
    "#     print(aa)\n",
    "# cv2.imread(X_test_arr[0][0][:,:,1])\n",
    "# cv2.imshow(X_test_arr[0][0][:,:,14])\n",
    "# X_test_arr[0][0][:,:,0].shape\n",
    "\n",
    "\n",
    "w=10\n",
    "h=10\n",
    "fig=plt.figure(figsize=(8, 8))\n",
    "columns = 4\n",
    "rows = 5\n",
    "for i in range(1, columns*rows +1):\n",
    "#     img = np.random.randint(10, size=(h,w))\n",
    "    fig.add_subplot(rows, columns, i)\n",
    "    plt.imshow(X_test_arr[0][0][:,:,i])\n",
    "plt.show()"
   ]
  },
  {
   "cell_type": "code",
   "execution_count": 15,
   "metadata": {},
   "outputs": [
    {
     "name": "stdout",
     "output_type": "stream",
     "text": [
      "Loaded model from disk\n"
     ]
    }
   ],
   "source": [
    "from keras.models import model_from_json\n",
    "from keras.optimizers import SGD\n",
    "\n",
    "# Loading the model\n",
    "json_file = open(\"model/model.json\", \"r\")\n",
    "model_json = json_file.read()\n",
    "json_file.close()\n",
    "loaded_model = model_from_json(model_json)\n",
    "# load weights into new model\n",
    "loaded_model.load_weights(\"model/model.h5\")\n",
    "print(\"Loaded model from disk\")\n",
    "loaded_model.compile( loss = \"categorical_crossentropy\", optimizer = SGD(lr=0.001), metrics=['mse', 'accuracy'])"
   ]
  },
  {
   "cell_type": "code",
   "execution_count": 14,
   "metadata": {},
   "outputs": [
    {
     "name": "stdout",
     "output_type": "stream",
     "text": [
      "(1, 1, 128, 128, 25)\n",
      "[5.4812552e-14 5.1904630e-05 9.9994814e-01]\n",
      "[('UPPERCUT', 0.99994814), ('JAP', 5.190463e-05), ('HOOK', 5.4812552e-14)]\n",
      "(1, 1, 128, 128, 25)\n",
      "[4.9581674e-26 9.5788591e-06 9.9999046e-01]\n",
      "[('UPPERCUT', 0.99999046), ('JAP', 9.578859e-06), ('HOOK', 4.9581674e-26)]\n",
      "(1, 1, 128, 128, 25)\n",
      "[4.327841e-24 7.054393e-03 9.929456e-01]\n",
      "[('UPPERCUT', 0.9929456), ('JAP', 0.007054393), ('HOOK', 4.327841e-24)]\n",
      "(1, 1, 128, 128, 25)\n",
      "[7.4606142e-21 1.4649577e-02 9.8535037e-01]\n",
      "[('UPPERCUT', 0.9853504), ('JAP', 0.014649577), ('HOOK', 7.460614e-21)]\n",
      "(1, 1, 128, 128, 25)\n",
      "[3.2881199e-25 1.1315465e-01 8.8684535e-01]\n",
      "[('UPPERCUT', 0.88684535), ('JAP', 0.11315465), ('HOOK', 3.28812e-25)]\n",
      "(1, 1, 128, 128, 25)\n",
      "[3.865010e-20 2.107977e-09 1.000000e+00]\n",
      "[('UPPERCUT', 1.0), ('JAP', 2.107977e-09), ('HOOK', 3.86501e-20)]\n"
     ]
    }
   ],
   "source": [
    "import numpy as np\n",
    "import operator\n",
    "import cv2\n",
    "import time\n",
    "\n",
    "\n",
    "fps = 25\n",
    "prev = 0\n",
    "\n",
    "cap = cv2.VideoCapture(0)\n",
    "\n",
    "# cap.set(cv2.cv.CV_CAP_PROP_FPS, fps)\n",
    "\n",
    "categories = {0: 'HOOK', 1: 'JAP', 2: 'UPPERCUT'} #, 3: 'THREE', 4: 'FOUR', 5: 'FIVE'}\n",
    "SAMPLE_DURATION = 25\n",
    "SAMPLE_SIZE = 128\n",
    "\n",
    "while True:\n",
    "    \n",
    "    frames = []\n",
    "    X_test = []\n",
    "    \n",
    "    for i in range(0, SAMPLE_DURATION):\n",
    "        ret, frame = cap.read()\n",
    "        img = frame.copy()\n",
    "        img = cv2.resize(img,(128,128),interpolation=cv2.INTER_AREA)\n",
    "        gray = cv2.cvtColor(img, cv2.COLOR_BGR2GRAY)\n",
    "        frames.append(gray)\n",
    "    \n",
    "    input = np.array(frames)\n",
    "    ipt = np.rollaxis(np.rollaxis(input,2,0),2,0)\n",
    "    X_test.append(ipt)\n",
    "    X_test_arr = np.array(X_test)\n",
    "    X_test_arr = np.expand_dims(X_test_arr, axis=0)\n",
    "    print(X_test_arr.shape)\n",
    "\n",
    "    result = loaded_model.predict(X_test_arr) # , 128, 128, 25\n",
    "    print(result[0])\n",
    "    prediction = {'HOOK': result[0][0], \n",
    "                  'JAP': result[0][1], \n",
    "                  'UPPERCUT': result[0][2]}\n",
    "    # Sorting based on top prediction\n",
    "    prediction = sorted(prediction.items(), key=operator.itemgetter(1), reverse=True)\n",
    "    print(prediction)\n",
    "\n",
    "    for frame in frames:\n",
    "        # draw the predicted activity on the frame\n",
    "        cv2.rectangle(frame, (0, 0), (300, 40), (0, 0, 0), -1)\n",
    "        cv2.putText(frame, prediction[0][0], (10, 25), cv2.FONT_HERSHEY_SIMPLEX,0.8, (255, 255, 255), 2)\n",
    "\n",
    "    # display the frame to our screen\n",
    "    cv2.imshow(\"Activity Recognition\", frame)\n",
    "\n",
    "    key = cv2.waitKey(1) & 0xFF\n",
    "    # if the `q` key was pressed, break from the loop\n",
    "    if key == ord(\"q\"):\n",
    "        break\n",
    "        \n",
    "cap.release()\n",
    "cv2.destroyAllWindows()"
   ]
  },
  {
   "cell_type": "code",
   "execution_count": 11,
   "metadata": {},
   "outputs": [
    {
     "name": "stdout",
     "output_type": "stream",
     "text": [
      "(1, 1, 128, 128, 25)\n",
      "[0.00000e+00 8.49208e-29 1.00000e+00]\n",
      "[('UPPERCUT', 1.0), ('JAP', 8.49208e-29), ('HOOK', 0.0)]\n",
      "(1, 1, 128, 128, 25)\n",
      "[0.0000000e+00 1.9231089e-28 1.0000000e+00]\n",
      "[('UPPERCUT', 1.0), ('JAP', 1.9231089e-28), ('HOOK', 0.0)]\n",
      "(1, 1, 128, 128, 25)\n",
      "[0.000000e+00 6.885209e-21 1.000000e+00]\n",
      "[('UPPERCUT', 1.0), ('JAP', 6.885209e-21), ('HOOK', 0.0)]\n",
      "(1, 1, 128, 128, 25)\n",
      "[9.180337e-30 4.452257e-24 1.000000e+00]\n",
      "[('UPPERCUT', 1.0), ('JAP', 4.452257e-24), ('HOOK', 9.180337e-30)]\n",
      "(1, 1, 128, 128, 25)\n",
      "[4.3519026e-27 1.1005113e-24 1.0000000e+00]\n",
      "[('UPPERCUT', 1.0), ('JAP', 1.1005113e-24), ('HOOK', 4.3519026e-27)]\n",
      "(1, 1, 128, 128, 25)\n",
      "[0.0000000e+00 1.1608398e-29 1.0000000e+00]\n",
      "[('UPPERCUT', 1.0), ('JAP', 1.1608398e-29), ('HOOK', 0.0)]\n",
      "(1, 1, 128, 128, 25)\n",
      "[1.4462718e-28 1.7156318e-19 1.0000000e+00]\n",
      "[('UPPERCUT', 1.0), ('JAP', 1.7156318e-19), ('HOOK', 1.4462718e-28)]\n"
     ]
    }
   ],
   "source": [
    "import numpy as np\n",
    "import operator\n",
    "import cv2\n",
    "import time\n",
    "\n",
    "\n",
    "fps = 25\n",
    "prev = 0\n",
    "\n",
    "cap = cv2.VideoCapture(0)\n",
    "\n",
    "# cap.set(cv2.cv.CV_CAP_PROP_FPS, fps)\n",
    "\n",
    "categories = {0: 'HOOK', 1: 'JAP', 2: 'UPPERCUT'} #, 3: 'THREE', 4: 'FOUR', 5: 'FIVE'}\n",
    "num_frames = 0\n",
    "frames = []\n",
    "X_test = []\n",
    "\n",
    "while True:\n",
    "    \n",
    "    ret, frame = cap.read()\n",
    "    frame = cv2.flip(frame, 1)\n",
    "    img = frame.copy()\n",
    "    img = cv2.resize(img,(128,128),interpolation=cv2.INTER_AREA)\n",
    "    gray = cv2.cvtColor(img, cv2.COLOR_BGR2GRAY)\n",
    "    \n",
    "#     print(len(frames))\n",
    "    frames.append(gray)\n",
    "    \n",
    "    if len(frames)==25:\n",
    "        input = np.array(frames)\n",
    "        ipt = np.rollaxis(np.rollaxis(input,2,0),2,0)\n",
    "        X_test.append(ipt)\n",
    "        X_test_arr = np.array(X_test)\n",
    "        X_test_arr = np.expand_dims(X_test_arr, axis=0)\n",
    "        print(X_test_arr.shape)\n",
    "        \n",
    "        result = loaded_model.predict(X_test_arr) # , 128, 128, 25\n",
    "        print(result[0])\n",
    "        prediction = {'HOOK': result[0][0], \n",
    "                      'JAP': result[0][1], \n",
    "                      'UPPERCUT': result[0][2]}\n",
    "        # Sorting based on top prediction\n",
    "        prediction = sorted(prediction.items(), key=operator.itemgetter(1), reverse=True)\n",
    "        print(prediction)\n",
    "\n",
    "        frames = []\n",
    "        X_test = []\n",
    "#         print('reset'+str(num_frames))\n",
    "      \n",
    "\n",
    "        cv2.rectangle(frame, (0, 0), (300, 40), (0, 0, 0), -1)\n",
    "        cv2.putText(frame, prediction[0][0], (10, 25), cv2.FONT_HERSHEY_SIMPLEX,0.8, (255, 255, 255), 2)\n",
    "\n",
    "    num_frames += 1\n",
    "    # display the frame to our screen\n",
    "    cv2.imshow(\"Activity Recognition\", frame)\n",
    "\n",
    "\n",
    "    key = cv2.waitKey(1) & 0xFF\n",
    "    # if the `q` key was pressed, break from the loop\n",
    "    if key == ord(\"q\"):\n",
    "        break\n",
    "        \n",
    "cap.release()\n",
    "cv2.destroyAllWindows()"
   ]
  },
  {
   "cell_type": "code",
   "execution_count": 5,
   "metadata": {},
   "outputs": [
    {
     "name": "stdout",
     "output_type": "stream",
     "text": [
      "[[8.7620484e-29 3.8644245e-18 1.0000000e+00]]\n",
      "2\n",
      "The action is:\n"
     ]
    }
   ],
   "source": [
    "import cv2\n",
    "import numpy as np\n",
    "# Testing the videos from Chalearn ConGD dataset on the trained model and printing the result on video using OpenCV3\n",
    "# Note: We have set random names for five classes and which are printed on the video\n",
    "# The resulting gesture ID or the label for all 39 gesture classes can be obtained as output\n",
    "frames = []\n",
    "cap = cv2.VideoCapture(0)#'datasets\\\\jap\\\\22.avi')\n",
    "\n",
    "fps = 25\n",
    "for k in range(fps):\n",
    "    ret, frame = cap.read()\n",
    "    frame=cv2.resize(frame,(128,128),interpolation=cv2.INTER_AREA)\n",
    "    gray = cv2.cvtColor(frame, cv2.COLOR_BGR2GRAY)\n",
    "    frames.append(gray)  \n",
    "    if cv2.waitKey(1) & 0xFF == ord('q'):\n",
    "        break\n",
    "\n",
    "input=np.array(frames)\n",
    "ipt=np.rollaxis(np.rollaxis(input,2,0),2,0)\n",
    "ipt = np.expand_dims(ipt, axis=0)\n",
    "ipt = np.expand_dims(ipt, axis=1)\n",
    "\n",
    "ipt=np.array(ipt)\n",
    "print(ipt)\n",
    "\n",
    "prediction=(loaded_model.predict(ipt))\n",
    "print(prediction)\n",
    "label = np.argmax(prediction)\n",
    "print(label)\n",
    "\n",
    "print('The action is:')\n",
    "if label==0:\n",
    "    text = (\"Hook\")\n",
    "elif label==1:\n",
    "    text = (\"Jap\")\n",
    "elif label==2:\n",
    "    text = (\"Uppercut\")\n",
    "else:\n",
    "    text = (\"No Action Detected\")\n",
    "\n",
    "# Real-time visualization of the output using OpenCV3\n",
    "while True:\n",
    "    ret, frame = cap.read()\n",
    "    font = cv2.FONT_HERSHEY_SIMPLEX\n",
    "    frame=cv2.resize(frame,(400,240),interpolation=cv2.INTER_AREA)\n",
    "    cv2.putText(frame,text,(10,25), font, 1,(255,255,255),2,cv2.LINE_AA)\n",
    "    cv2.imshow('Frame',frame)\n",
    "    if cv2.waitKey(25) & 0xFF == ord('q'):\n",
    "          break\n",
    "cap.release()\n",
    "cv2.destroyAllWindows()"
   ]
  },
  {
   "cell_type": "code",
   "execution_count": null,
   "metadata": {},
   "outputs": [],
   "source": []
  }
 ],
 "metadata": {
  "kernelspec": {
   "display_name": "Python 3",
   "language": "python",
   "name": "python3"
  },
  "language_info": {
   "codemirror_mode": {
    "name": "ipython",
    "version": 3
   },
   "file_extension": ".py",
   "mimetype": "text/x-python",
   "name": "python",
   "nbconvert_exporter": "python",
   "pygments_lexer": "ipython3",
   "version": "3.6.6"
  }
 },
 "nbformat": 4,
 "nbformat_minor": 2
}
